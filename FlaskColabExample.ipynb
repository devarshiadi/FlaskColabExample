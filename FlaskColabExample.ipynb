{
  "nbformat": 4,
  "nbformat_minor": 0,
  "metadata": {
    "colab": {
      "provenance": []
    },
    "kernelspec": {
      "name": "python3",
      "display_name": "Python 3"
    },
    "language_info": {
      "name": "python"
    }
  },
  "cells": [
    {
      "cell_type": "code",
      "execution_count": 16,
      "metadata": {
        "colab": {
          "base_uri": "https://localhost:8080/"
        },
        "id": "4mP2DJ2ooaY9",
        "outputId": "114c5382-55e2-4ff5-a2e6-1a1a7fa31c3f"
      },
      "outputs": [
        {
          "output_type": "stream",
          "name": "stdout",
          "text": [
            "Overwriting app.py\n"
          ]
        }
      ],
      "source": [
        "%%writefile app.py\n",
        "\n",
        "from flask import Flask, render_template_string\n",
        "from datetime import datetime\n",
        "\n",
        "app = Flask(__name__)\n",
        "\n",
        "HTML_TEMPLATE = \"\"\"\n",
        "<!DOCTYPE html>\n",
        "<html lang=\"en\">\n",
        "<head>\n",
        "    <meta charset=\"UTF-8\">\n",
        "    <meta name=\"viewport\" content=\"width=device-width, initial-scale=1.0\">\n",
        "    <title>Aditya's Console</title>\n",
        "    <link rel=\"icon\" href=\"https://www.adityadevarshi.online/favicon.ico\" type=\"image/x-icon\">\n",
        "    <style>\n",
        "        body { background-color: black; color: limegreen; font-family: monospace; padding: 20px; display: flex; justify-content: center; align-items: center; height: 100vh; margin: 0; }\n",
        "        .console { max-width: 90%; width: 600px; white-space: pre-wrap; font-size: 1.2rem; overflow: hidden; padding: 15px; box-shadow: 0px 0px 10px rgba(0,255,0,0.5); border-radius: 5px; background: rgba(0, 0, 0, 0.9); }\n",
        "        .cursor { display: inline-block; width: 10px; height: 18px; background: limegreen; animation: blink 0.7s infinite; }\n",
        "        a { color: limegreen; text-decoration: none; word-break: break-word; }\n",
        "        a:hover { text-decoration: underline; }\n",
        "        @keyframes blink { 50% { opacity: 0; } }\n",
        "        @media (max-width: 768px) {\n",
        "            .console { font-size: 1rem; padding: 10px; max-width: 95%; }\n",
        "            .cursor { width: 8px; height: 16px; }\n",
        "        }\n",
        "    </style>\n",
        "</head>\n",
        "<body>\n",
        "    <div class=\"console\">\n",
        "        <pre id=\"typing-text\"></pre><span class=\"cursor\"></span>\n",
        "    </div>\n",
        "    <script>\n",
        "        const text = `\n",
        "Welcome to Aditya's Console\n",
        "============================\n",
        "Time: {current_time}\n",
        "\n",
        "Name: Aditya Devarshi\n",
        "GitHub: https://github.com/devarshiadi\n",
        "LinkedIn: https://www.linkedin.com/in/aditya-devarshi/\n",
        "Portfolio: https://www.adityadevarshi.online/\n",
        "\n",
        "Open to Work: Yes\n",
        "Interests: Python, Data Science, AI/ML\n",
        "============================\n",
        "\n",
        "Thanks for reading my article! More at\n",
        " https://medium.com/@devarshia5\n",
        "`;\n",
        "        let index = 0;\n",
        "        function typeEffect() {\n",
        "            if (index < text.length) {\n",
        "                let preElement = document.getElementById(\"typing-text\");\n",
        "                preElement.textContent += text.charAt(index);\n",
        "                index++;\n",
        "                setTimeout(typeEffect, 50);\n",
        "            } else {\n",
        "                let preElement = document.getElementById(\"typing-text\");\n",
        "                preElement.innerHTML = preElement.textContent.replace(/(https?:\\/\\/\\S+)/g, '<a href=\"$1\" target=\"_blank\">$1</a>');\n",
        "            }\n",
        "        }\n",
        "        typeEffect();\n",
        "    </script>\n",
        "</body>\n",
        "</html>\n",
        "\"\"\".replace(\"{current_time}\", datetime.now().strftime(\"%Y-%m-%d %H:%M:%S\"))\n",
        "\n",
        "@app.route('/')\n",
        "def home():\n",
        "    return render_template_string(HTML_TEMPLATE)\n",
        "\n",
        "if __name__ == '__main__':\n",
        "    app.run(debug=True)\n"
      ]
    },
    {
      "cell_type": "code",
      "source": [
        "import time\n",
        "import subprocess\n",
        "from threading import Thread\n",
        "\n",
        "def run_flask():\n",
        "    subprocess.run([\"python\", \"app.py\"])\n",
        "\n",
        "flask_thread = Thread(target=run_flask)\n",
        "flask_thread.daemon = True\n",
        "flask_thread.start()\n",
        "\n",
        "time.sleep(3)\n",
        "\n",
        "\n",
        "!ssh -o StrictHostKeyChecking=no -R 80:localhost:5000 serveo.net\n"
      ],
      "metadata": {
        "colab": {
          "base_uri": "https://localhost:8080/"
        },
        "id": "1RmlgwKUok4m",
        "outputId": "3e451fa6-ae97-49be-8660-614c38931eae"
      },
      "execution_count": 17,
      "outputs": [
        {
          "output_type": "stream",
          "name": "stdout",
          "text": [
            "\u001b[32mForwarding HTTP traffic from https://884d2c7a0b2f0cf10f282c7f44cc3a57.serveo.net\n",
            "\u001b[0mHTTP request from 49.36.43.201 to https://884d2c7a0b2f0cf10f282c7f44cc3a57.serveo.net/\n",
            "HTTP request from 49.36.43.201 to https://884d2c7a0b2f0cf10f282c7f44cc3a57.serveo.net/\n"
          ]
        }
      ]
    },
    {
      "cell_type": "code",
      "source": [],
      "metadata": {
        "id": "-DlQ2Xx2ou2r"
      },
      "execution_count": null,
      "outputs": []
    }
  ]
}